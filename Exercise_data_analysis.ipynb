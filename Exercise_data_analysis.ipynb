{
 "cells": [
  {
   "cell_type": "markdown",
   "metadata": {},
   "source": [
    "### Recommended Readings:\n",
    "- Pandas : [User Guide](https://pandas.pydata.org/docs/user_guide/index.html#user-guide)\n",
    "- Concat, Merge and Join: [Documentation](https://pandas.pydata.org/docs/user_guide/merging.html)"
   ]
  },
  {
   "cell_type": "markdown",
   "metadata": {},
   "source": [
    "Download the following dataset from kaggel: [Employee Salaries Analysis](https://www.kaggle.com/datasets/sahirmaharajj/employee-salaries-analysis)\n",
    "\n",
    "Using pandas find the following:\n",
    "1. The average salary of all employees\n",
    "2. The Department with the highest average salary\n",
    "3. The average salary of employees based on gender"
   ]
  },
  {
   "cell_type": "code",
   "execution_count": 6,
   "metadata": {},
   "outputs": [
    {
     "name": "stdout",
     "output_type": "stream",
     "text": [
      "The average salary of employees is: $90312.17\n",
      "The department with the highest average salary is: Office of Intergovernmental Relations Department >> with an average salary of: $165196.75\n",
      "The average salary of employees based on gender:\n",
      "F: $87497.50\n",
      "M: $92382.93\n"
     ]
    }
   ],
   "source": [
    "# your code here\n",
    "\n",
    "import pandas as pd\n",
    "\n",
    "data = pd.read_csv('Employee_Salaries.csv')\n",
    "\n",
    "data.head()\n",
    "\n",
    "# 1. The average salary of all employees\n",
    "average_salary = data['Base_Salary'].mean()\n",
    "print(f\"The average salary of employees is: ${average_salary:.2f}\")\n",
    "\n",
    "# 2. The Department with the highest average salary\n",
    "average_salary_by_department = data.groupby('Department_Name')['Base_Salary'].mean()\n",
    "department_highest_avg_salary = average_salary_by_department.idxmax()\n",
    "highest_avg_salary = average_salary_by_department.max()\n",
    "print(f\"The department with the highest average salary is: {department_highest_avg_salary} >> with an average salary of: ${highest_avg_salary:.2f}\")\n",
    "\n",
    "# 3. The average salary of employees based on gender\n",
    "average_salary_by_gender = data.groupby('Gender')['Base_Salary'].mean()\n",
    "print(\"The average salary of employees based on gender:\")\n",
    "for gender, avg_salary in average_salary_by_gender.items():\n",
    "    print(f\"{gender}: ${avg_salary:.2f}\")\n",
    "\n",
    "\n",
    "\n",
    "\n",
    "\n"
   ]
  },
  {
   "cell_type": "code",
   "execution_count": 2,
   "metadata": {},
   "outputs": [
    {
     "data": {
      "text/html": [
       "<div>\n",
       "<style scoped>\n",
       "    .dataframe tbody tr th:only-of-type {\n",
       "        vertical-align: middle;\n",
       "    }\n",
       "\n",
       "    .dataframe tbody tr th {\n",
       "        vertical-align: top;\n",
       "    }\n",
       "\n",
       "    .dataframe thead th {\n",
       "        text-align: right;\n",
       "    }\n",
       "</style>\n",
       "<table border=\"1\" class=\"dataframe\">\n",
       "  <thead>\n",
       "    <tr style=\"text-align: right;\">\n",
       "      <th></th>\n",
       "      <th>Department</th>\n",
       "      <th>Department_Name</th>\n",
       "      <th>Division</th>\n",
       "      <th>Gender</th>\n",
       "      <th>Base_Salary</th>\n",
       "      <th>Overtime_Pay</th>\n",
       "      <th>Longevity_Pay</th>\n",
       "      <th>Grade</th>\n",
       "    </tr>\n",
       "  </thead>\n",
       "  <tbody>\n",
       "    <tr>\n",
       "      <th>0</th>\n",
       "      <td>ABS</td>\n",
       "      <td>Alcohol Beverage Services</td>\n",
       "      <td>ABS 85 Administration</td>\n",
       "      <td>M</td>\n",
       "      <td>175873.000</td>\n",
       "      <td>0.00</td>\n",
       "      <td>0.0</td>\n",
       "      <td>M2</td>\n",
       "    </tr>\n",
       "    <tr>\n",
       "      <th>1</th>\n",
       "      <td>ABS</td>\n",
       "      <td>Alcohol Beverage Services</td>\n",
       "      <td>ABS 85 Administration</td>\n",
       "      <td>M</td>\n",
       "      <td>145613.360</td>\n",
       "      <td>0.00</td>\n",
       "      <td>0.0</td>\n",
       "      <td>M3</td>\n",
       "    </tr>\n",
       "    <tr>\n",
       "      <th>2</th>\n",
       "      <td>ABS</td>\n",
       "      <td>Alcohol Beverage Services</td>\n",
       "      <td>ABS 85 Administration</td>\n",
       "      <td>F</td>\n",
       "      <td>136970.000</td>\n",
       "      <td>0.00</td>\n",
       "      <td>0.0</td>\n",
       "      <td>M3</td>\n",
       "    </tr>\n",
       "    <tr>\n",
       "      <th>3</th>\n",
       "      <td>ABS</td>\n",
       "      <td>Alcohol Beverage Services</td>\n",
       "      <td>ABS 85 Administrative Services</td>\n",
       "      <td>F</td>\n",
       "      <td>89432.694</td>\n",
       "      <td>0.00</td>\n",
       "      <td>2490.0</td>\n",
       "      <td>21</td>\n",
       "    </tr>\n",
       "    <tr>\n",
       "      <th>4</th>\n",
       "      <td>ABS</td>\n",
       "      <td>Alcohol Beverage Services</td>\n",
       "      <td>ABS 85 Administrative Services</td>\n",
       "      <td>F</td>\n",
       "      <td>78947.000</td>\n",
       "      <td>456.68</td>\n",
       "      <td>6257.7</td>\n",
       "      <td>16</td>\n",
       "    </tr>\n",
       "  </tbody>\n",
       "</table>\n",
       "</div>"
      ],
      "text/plain": [
       "  Department            Department_Name                        Division  \\\n",
       "0        ABS  Alcohol Beverage Services           ABS 85 Administration   \n",
       "1        ABS  Alcohol Beverage Services           ABS 85 Administration   \n",
       "2        ABS  Alcohol Beverage Services           ABS 85 Administration   \n",
       "3        ABS  Alcohol Beverage Services  ABS 85 Administrative Services   \n",
       "4        ABS  Alcohol Beverage Services  ABS 85 Administrative Services   \n",
       "\n",
       "  Gender  Base_Salary  Overtime_Pay  Longevity_Pay Grade  \n",
       "0      M   175873.000          0.00            0.0    M2  \n",
       "1      M   145613.360          0.00            0.0    M3  \n",
       "2      F   136970.000          0.00            0.0    M3  \n",
       "3      F    89432.694          0.00         2490.0    21  \n",
       "4      F    78947.000        456.68         6257.7    16  "
      ]
     },
     "execution_count": 2,
     "metadata": {},
     "output_type": "execute_result"
    }
   ],
   "source": [
    "data.head()"
   ]
  }
 ],
 "metadata": {
  "kernelspec": {
   "display_name": "Python 3",
   "language": "python",
   "name": "python3"
  },
  "language_info": {
   "codemirror_mode": {
    "name": "ipython",
    "version": 3
   },
   "file_extension": ".py",
   "mimetype": "text/x-python",
   "name": "python",
   "nbconvert_exporter": "python",
   "pygments_lexer": "ipython3",
   "version": "3.12.3"
  }
 },
 "nbformat": 4,
 "nbformat_minor": 2
}
